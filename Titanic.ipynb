{
 "cells": [
  {
   "cell_type": "code",
   "execution_count": 1,
   "id": "3bce2fec",
   "metadata": {
    "_cell_guid": "b1076dfc-b9ad-4769-8c92-a6c4dae69d19",
    "_uuid": "8f2839f25d086af736a60e9eeb907d3b93b6e0e5",
    "execution": {
     "iopub.execute_input": "2022-07-26T22:22:05.056739Z",
     "iopub.status.busy": "2022-07-26T22:22:05.055757Z",
     "iopub.status.idle": "2022-07-26T22:22:06.124226Z",
     "shell.execute_reply": "2022-07-26T22:22:06.123066Z"
    },
    "papermill": {
     "duration": 1.09017,
     "end_time": "2022-07-26T22:22:06.128710",
     "exception": false,
     "start_time": "2022-07-26T22:22:05.038540",
     "status": "completed"
    },
    "tags": []
   },
   "outputs": [
    {
     "name": "stdout",
     "output_type": "stream",
     "text": [
      "/kaggle/input/spaceship-titanic/sample_submission.csv\n",
      "/kaggle/input/spaceship-titanic/train.csv\n",
      "/kaggle/input/spaceship-titanic/test.csv\n"
     ]
    }
   ],
   "source": [
    "# This Python 3 environment comes with many helpful analytics libraries installed\n",
    "# It is defined by the kaggle/python Docker image: https://github.com/kaggle/docker-python\n",
    "# For example, here's several helpful packages to load\n",
    "\n",
    "import numpy as np # linear algebra\n",
    "import pandas as pd # data processing, CSV file I/O (e.g. pd.read_csv)\n",
    "import matplotlib.pyplot as plt\n",
    "import seaborn as sns\n",
    "\n",
    "# Input data files are available in the read-only \"../input/\" directory\n",
    "# For example, running this (by clicking run or pressing Shift+Enter) will list all files under the input directory\n",
    "\n",
    "import os\n",
    "for dirname, _, filenames in os.walk('/kaggle/input'):\n",
    "    for filename in filenames:\n",
    "        print(os.path.join(dirname, filename))\n",
    "\n",
    "# You can write up to 20GB to the current directory (/kaggle/working/) that gets preserved as output when you create a version using \"Save & Run All\" \n",
    "# You can also write temporary files to /kaggle/temp/, but they won't be saved outside of the current session"
   ]
  },
  {
   "cell_type": "code",
   "execution_count": 2,
   "id": "dc07e6a6",
   "metadata": {
    "execution": {
     "iopub.execute_input": "2022-07-26T22:22:06.158546Z",
     "iopub.status.busy": "2022-07-26T22:22:06.158177Z",
     "iopub.status.idle": "2022-07-26T22:22:06.210329Z",
     "shell.execute_reply": "2022-07-26T22:22:06.209203Z"
    },
    "papermill": {
     "duration": 0.070422,
     "end_time": "2022-07-26T22:22:06.213405",
     "exception": false,
     "start_time": "2022-07-26T22:22:06.142983",
     "status": "completed"
    },
    "tags": []
   },
   "outputs": [],
   "source": [
    "data = pd.read_csv(\"/kaggle/input/spaceship-titanic/train.csv\")"
   ]
  },
  {
   "cell_type": "code",
   "execution_count": 3,
   "id": "3b5c5dcc",
   "metadata": {
    "execution": {
     "iopub.execute_input": "2022-07-26T22:22:06.246618Z",
     "iopub.status.busy": "2022-07-26T22:22:06.245430Z",
     "iopub.status.idle": "2022-07-26T22:22:06.279078Z",
     "shell.execute_reply": "2022-07-26T22:22:06.277898Z"
    },
    "papermill": {
     "duration": 0.052992,
     "end_time": "2022-07-26T22:22:06.281685",
     "exception": false,
     "start_time": "2022-07-26T22:22:06.228693",
     "status": "completed"
    },
    "tags": []
   },
   "outputs": [
    {
     "data": {
      "text/html": [
       "<div>\n",
       "<style scoped>\n",
       "    .dataframe tbody tr th:only-of-type {\n",
       "        vertical-align: middle;\n",
       "    }\n",
       "\n",
       "    .dataframe tbody tr th {\n",
       "        vertical-align: top;\n",
       "    }\n",
       "\n",
       "    .dataframe thead th {\n",
       "        text-align: right;\n",
       "    }\n",
       "</style>\n",
       "<table border=\"1\" class=\"dataframe\">\n",
       "  <thead>\n",
       "    <tr style=\"text-align: right;\">\n",
       "      <th></th>\n",
       "      <th>PassengerId</th>\n",
       "      <th>HomePlanet</th>\n",
       "      <th>CryoSleep</th>\n",
       "      <th>Cabin</th>\n",
       "      <th>Destination</th>\n",
       "      <th>Age</th>\n",
       "      <th>VIP</th>\n",
       "      <th>RoomService</th>\n",
       "      <th>FoodCourt</th>\n",
       "      <th>ShoppingMall</th>\n",
       "      <th>Spa</th>\n",
       "      <th>VRDeck</th>\n",
       "      <th>Name</th>\n",
       "      <th>Transported</th>\n",
       "    </tr>\n",
       "  </thead>\n",
       "  <tbody>\n",
       "    <tr>\n",
       "      <th>0</th>\n",
       "      <td>0001_01</td>\n",
       "      <td>Europa</td>\n",
       "      <td>False</td>\n",
       "      <td>B/0/P</td>\n",
       "      <td>TRAPPIST-1e</td>\n",
       "      <td>39.0</td>\n",
       "      <td>False</td>\n",
       "      <td>0.0</td>\n",
       "      <td>0.0</td>\n",
       "      <td>0.0</td>\n",
       "      <td>0.0</td>\n",
       "      <td>0.0</td>\n",
       "      <td>Maham Ofracculy</td>\n",
       "      <td>False</td>\n",
       "    </tr>\n",
       "    <tr>\n",
       "      <th>1</th>\n",
       "      <td>0002_01</td>\n",
       "      <td>Earth</td>\n",
       "      <td>False</td>\n",
       "      <td>F/0/S</td>\n",
       "      <td>TRAPPIST-1e</td>\n",
       "      <td>24.0</td>\n",
       "      <td>False</td>\n",
       "      <td>109.0</td>\n",
       "      <td>9.0</td>\n",
       "      <td>25.0</td>\n",
       "      <td>549.0</td>\n",
       "      <td>44.0</td>\n",
       "      <td>Juanna Vines</td>\n",
       "      <td>True</td>\n",
       "    </tr>\n",
       "    <tr>\n",
       "      <th>2</th>\n",
       "      <td>0003_01</td>\n",
       "      <td>Europa</td>\n",
       "      <td>False</td>\n",
       "      <td>A/0/S</td>\n",
       "      <td>TRAPPIST-1e</td>\n",
       "      <td>58.0</td>\n",
       "      <td>True</td>\n",
       "      <td>43.0</td>\n",
       "      <td>3576.0</td>\n",
       "      <td>0.0</td>\n",
       "      <td>6715.0</td>\n",
       "      <td>49.0</td>\n",
       "      <td>Altark Susent</td>\n",
       "      <td>False</td>\n",
       "    </tr>\n",
       "    <tr>\n",
       "      <th>3</th>\n",
       "      <td>0003_02</td>\n",
       "      <td>Europa</td>\n",
       "      <td>False</td>\n",
       "      <td>A/0/S</td>\n",
       "      <td>TRAPPIST-1e</td>\n",
       "      <td>33.0</td>\n",
       "      <td>False</td>\n",
       "      <td>0.0</td>\n",
       "      <td>1283.0</td>\n",
       "      <td>371.0</td>\n",
       "      <td>3329.0</td>\n",
       "      <td>193.0</td>\n",
       "      <td>Solam Susent</td>\n",
       "      <td>False</td>\n",
       "    </tr>\n",
       "    <tr>\n",
       "      <th>4</th>\n",
       "      <td>0004_01</td>\n",
       "      <td>Earth</td>\n",
       "      <td>False</td>\n",
       "      <td>F/1/S</td>\n",
       "      <td>TRAPPIST-1e</td>\n",
       "      <td>16.0</td>\n",
       "      <td>False</td>\n",
       "      <td>303.0</td>\n",
       "      <td>70.0</td>\n",
       "      <td>151.0</td>\n",
       "      <td>565.0</td>\n",
       "      <td>2.0</td>\n",
       "      <td>Willy Santantines</td>\n",
       "      <td>True</td>\n",
       "    </tr>\n",
       "    <tr>\n",
       "      <th>5</th>\n",
       "      <td>0005_01</td>\n",
       "      <td>Earth</td>\n",
       "      <td>False</td>\n",
       "      <td>F/0/P</td>\n",
       "      <td>PSO J318.5-22</td>\n",
       "      <td>44.0</td>\n",
       "      <td>False</td>\n",
       "      <td>0.0</td>\n",
       "      <td>483.0</td>\n",
       "      <td>0.0</td>\n",
       "      <td>291.0</td>\n",
       "      <td>0.0</td>\n",
       "      <td>Sandie Hinetthews</td>\n",
       "      <td>True</td>\n",
       "    </tr>\n",
       "    <tr>\n",
       "      <th>6</th>\n",
       "      <td>0006_01</td>\n",
       "      <td>Earth</td>\n",
       "      <td>False</td>\n",
       "      <td>F/2/S</td>\n",
       "      <td>TRAPPIST-1e</td>\n",
       "      <td>26.0</td>\n",
       "      <td>False</td>\n",
       "      <td>42.0</td>\n",
       "      <td>1539.0</td>\n",
       "      <td>3.0</td>\n",
       "      <td>0.0</td>\n",
       "      <td>0.0</td>\n",
       "      <td>Billex Jacostaffey</td>\n",
       "      <td>True</td>\n",
       "    </tr>\n",
       "    <tr>\n",
       "      <th>7</th>\n",
       "      <td>0006_02</td>\n",
       "      <td>Earth</td>\n",
       "      <td>True</td>\n",
       "      <td>G/0/S</td>\n",
       "      <td>TRAPPIST-1e</td>\n",
       "      <td>28.0</td>\n",
       "      <td>False</td>\n",
       "      <td>0.0</td>\n",
       "      <td>0.0</td>\n",
       "      <td>0.0</td>\n",
       "      <td>0.0</td>\n",
       "      <td>NaN</td>\n",
       "      <td>Candra Jacostaffey</td>\n",
       "      <td>True</td>\n",
       "    </tr>\n",
       "    <tr>\n",
       "      <th>8</th>\n",
       "      <td>0007_01</td>\n",
       "      <td>Earth</td>\n",
       "      <td>False</td>\n",
       "      <td>F/3/S</td>\n",
       "      <td>TRAPPIST-1e</td>\n",
       "      <td>35.0</td>\n",
       "      <td>False</td>\n",
       "      <td>0.0</td>\n",
       "      <td>785.0</td>\n",
       "      <td>17.0</td>\n",
       "      <td>216.0</td>\n",
       "      <td>0.0</td>\n",
       "      <td>Andona Beston</td>\n",
       "      <td>True</td>\n",
       "    </tr>\n",
       "    <tr>\n",
       "      <th>9</th>\n",
       "      <td>0008_01</td>\n",
       "      <td>Europa</td>\n",
       "      <td>True</td>\n",
       "      <td>B/1/P</td>\n",
       "      <td>55 Cancri e</td>\n",
       "      <td>14.0</td>\n",
       "      <td>False</td>\n",
       "      <td>0.0</td>\n",
       "      <td>0.0</td>\n",
       "      <td>0.0</td>\n",
       "      <td>0.0</td>\n",
       "      <td>0.0</td>\n",
       "      <td>Erraiam Flatic</td>\n",
       "      <td>True</td>\n",
       "    </tr>\n",
       "  </tbody>\n",
       "</table>\n",
       "</div>"
      ],
      "text/plain": [
       "  PassengerId HomePlanet CryoSleep  Cabin    Destination   Age    VIP  \\\n",
       "0     0001_01     Europa     False  B/0/P    TRAPPIST-1e  39.0  False   \n",
       "1     0002_01      Earth     False  F/0/S    TRAPPIST-1e  24.0  False   \n",
       "2     0003_01     Europa     False  A/0/S    TRAPPIST-1e  58.0   True   \n",
       "3     0003_02     Europa     False  A/0/S    TRAPPIST-1e  33.0  False   \n",
       "4     0004_01      Earth     False  F/1/S    TRAPPIST-1e  16.0  False   \n",
       "5     0005_01      Earth     False  F/0/P  PSO J318.5-22  44.0  False   \n",
       "6     0006_01      Earth     False  F/2/S    TRAPPIST-1e  26.0  False   \n",
       "7     0006_02      Earth      True  G/0/S    TRAPPIST-1e  28.0  False   \n",
       "8     0007_01      Earth     False  F/3/S    TRAPPIST-1e  35.0  False   \n",
       "9     0008_01     Europa      True  B/1/P    55 Cancri e  14.0  False   \n",
       "\n",
       "   RoomService  FoodCourt  ShoppingMall     Spa  VRDeck                Name  \\\n",
       "0          0.0        0.0           0.0     0.0     0.0     Maham Ofracculy   \n",
       "1        109.0        9.0          25.0   549.0    44.0        Juanna Vines   \n",
       "2         43.0     3576.0           0.0  6715.0    49.0       Altark Susent   \n",
       "3          0.0     1283.0         371.0  3329.0   193.0        Solam Susent   \n",
       "4        303.0       70.0         151.0   565.0     2.0   Willy Santantines   \n",
       "5          0.0      483.0           0.0   291.0     0.0   Sandie Hinetthews   \n",
       "6         42.0     1539.0           3.0     0.0     0.0  Billex Jacostaffey   \n",
       "7          0.0        0.0           0.0     0.0     NaN  Candra Jacostaffey   \n",
       "8          0.0      785.0          17.0   216.0     0.0       Andona Beston   \n",
       "9          0.0        0.0           0.0     0.0     0.0      Erraiam Flatic   \n",
       "\n",
       "   Transported  \n",
       "0        False  \n",
       "1         True  \n",
       "2        False  \n",
       "3        False  \n",
       "4         True  \n",
       "5         True  \n",
       "6         True  \n",
       "7         True  \n",
       "8         True  \n",
       "9         True  "
      ]
     },
     "execution_count": 3,
     "metadata": {},
     "output_type": "execute_result"
    }
   ],
   "source": [
    "data.head(10)"
   ]
  },
  {
   "cell_type": "code",
   "execution_count": 4,
   "id": "8f9b67c9",
   "metadata": {
    "execution": {
     "iopub.execute_input": "2022-07-26T22:22:06.312386Z",
     "iopub.status.busy": "2022-07-26T22:22:06.311648Z",
     "iopub.status.idle": "2022-07-26T22:22:06.317443Z",
     "shell.execute_reply": "2022-07-26T22:22:06.316669Z"
    },
    "papermill": {
     "duration": 0.023604,
     "end_time": "2022-07-26T22:22:06.319549",
     "exception": false,
     "start_time": "2022-07-26T22:22:06.295945",
     "status": "completed"
    },
    "tags": []
   },
   "outputs": [
    {
     "data": {
      "text/plain": [
       "(8693, 14)"
      ]
     },
     "execution_count": 4,
     "metadata": {},
     "output_type": "execute_result"
    }
   ],
   "source": [
    "data.shape"
   ]
  },
  {
   "cell_type": "code",
   "execution_count": 5,
   "id": "98c32482",
   "metadata": {
    "execution": {
     "iopub.execute_input": "2022-07-26T22:22:06.350212Z",
     "iopub.status.busy": "2022-07-26T22:22:06.349762Z",
     "iopub.status.idle": "2022-07-26T22:22:06.376493Z",
     "shell.execute_reply": "2022-07-26T22:22:06.375333Z"
    },
    "papermill": {
     "duration": 0.045621,
     "end_time": "2022-07-26T22:22:06.379608",
     "exception": false,
     "start_time": "2022-07-26T22:22:06.333987",
     "status": "completed"
    },
    "tags": []
   },
   "outputs": [
    {
     "name": "stdout",
     "output_type": "stream",
     "text": [
      "<class 'pandas.core.frame.DataFrame'>\n",
      "RangeIndex: 8693 entries, 0 to 8692\n",
      "Data columns (total 14 columns):\n",
      " #   Column        Non-Null Count  Dtype  \n",
      "---  ------        --------------  -----  \n",
      " 0   PassengerId   8693 non-null   object \n",
      " 1   HomePlanet    8492 non-null   object \n",
      " 2   CryoSleep     8476 non-null   object \n",
      " 3   Cabin         8494 non-null   object \n",
      " 4   Destination   8511 non-null   object \n",
      " 5   Age           8514 non-null   float64\n",
      " 6   VIP           8490 non-null   object \n",
      " 7   RoomService   8512 non-null   float64\n",
      " 8   FoodCourt     8510 non-null   float64\n",
      " 9   ShoppingMall  8485 non-null   float64\n",
      " 10  Spa           8510 non-null   float64\n",
      " 11  VRDeck        8505 non-null   float64\n",
      " 12  Name          8493 non-null   object \n",
      " 13  Transported   8693 non-null   bool   \n",
      "dtypes: bool(1), float64(6), object(7)\n",
      "memory usage: 891.5+ KB\n"
     ]
    }
   ],
   "source": [
    "data.info()"
   ]
  },
  {
   "cell_type": "code",
   "execution_count": 6,
   "id": "2b5a6a09",
   "metadata": {
    "execution": {
     "iopub.execute_input": "2022-07-26T22:22:06.411642Z",
     "iopub.status.busy": "2022-07-26T22:22:06.410955Z",
     "iopub.status.idle": "2022-07-26T22:22:06.420809Z",
     "shell.execute_reply": "2022-07-26T22:22:06.419682Z"
    },
    "papermill": {
     "duration": 0.028078,
     "end_time": "2022-07-26T22:22:06.423011",
     "exception": false,
     "start_time": "2022-07-26T22:22:06.394933",
     "status": "completed"
    },
    "tags": []
   },
   "outputs": [
    {
     "data": {
      "text/plain": [
       "0    False\n",
       "1    False\n",
       "2    False\n",
       "3    False\n",
       "4    False\n",
       "5    False\n",
       "6    False\n",
       "7     True\n",
       "8    False\n",
       "9     True\n",
       "Name: CryoS, dtype: bool"
      ]
     },
     "execution_count": 6,
     "metadata": {},
     "output_type": "execute_result"
    }
   ],
   "source": [
    "data['CryoS'] = data.CryoSleep==True\n",
    "data['CryoS'].head(10)"
   ]
  },
  {
   "cell_type": "code",
   "execution_count": 7,
   "id": "cdf4618d",
   "metadata": {
    "execution": {
     "iopub.execute_input": "2022-07-26T22:22:06.454939Z",
     "iopub.status.busy": "2022-07-26T22:22:06.454178Z",
     "iopub.status.idle": "2022-07-26T22:22:06.466252Z",
     "shell.execute_reply": "2022-07-26T22:22:06.465457Z"
    },
    "papermill": {
     "duration": 0.030878,
     "end_time": "2022-07-26T22:22:06.468388",
     "exception": false,
     "start_time": "2022-07-26T22:22:06.437510",
     "status": "completed"
    },
    "tags": []
   },
   "outputs": [
    {
     "data": {
      "text/plain": [
       "0    0\n",
       "1    0\n",
       "2    0\n",
       "3    0\n",
       "4    0\n",
       "5    0\n",
       "6    0\n",
       "7    1\n",
       "8    0\n",
       "9    1\n",
       "Name: CryoS, dtype: int64"
      ]
     },
     "execution_count": 7,
     "metadata": {},
     "output_type": "execute_result"
    }
   ],
   "source": [
    "data['CryoS'] = data['CryoS'].apply(lambda x : 1 if x is True else 0)\n",
    "data['CryoS'].head(10)"
   ]
  },
  {
   "cell_type": "code",
   "execution_count": 8,
   "id": "8cd12857",
   "metadata": {
    "execution": {
     "iopub.execute_input": "2022-07-26T22:22:06.500032Z",
     "iopub.status.busy": "2022-07-26T22:22:06.499320Z",
     "iopub.status.idle": "2022-07-26T22:22:06.509665Z",
     "shell.execute_reply": "2022-07-26T22:22:06.508784Z"
    },
    "papermill": {
     "duration": 0.028899,
     "end_time": "2022-07-26T22:22:06.511962",
     "exception": false,
     "start_time": "2022-07-26T22:22:06.483063",
     "status": "completed"
    },
    "tags": []
   },
   "outputs": [],
   "source": [
    "data['vip'] = data.VIP==True\n",
    "data['vip'] = data['vip'].apply(lambda x : 1 if x is True else 0)"
   ]
  },
  {
   "cell_type": "code",
   "execution_count": 9,
   "id": "4de1ee2d",
   "metadata": {
    "execution": {
     "iopub.execute_input": "2022-07-26T22:22:06.543175Z",
     "iopub.status.busy": "2022-07-26T22:22:06.542459Z",
     "iopub.status.idle": "2022-07-26T22:22:06.551324Z",
     "shell.execute_reply": "2022-07-26T22:22:06.550526Z"
    },
    "papermill": {
     "duration": 0.026813,
     "end_time": "2022-07-26T22:22:06.553375",
     "exception": false,
     "start_time": "2022-07-26T22:22:06.526562",
     "status": "completed"
    },
    "tags": []
   },
   "outputs": [
    {
     "data": {
      "text/plain": [
       "['PassengerId',\n",
       " 'HomePlanet',\n",
       " 'CryoSleep',\n",
       " 'Cabin',\n",
       " 'Destination',\n",
       " 'VIP',\n",
       " 'Name']"
      ]
     },
     "execution_count": 9,
     "metadata": {},
     "output_type": "execute_result"
    }
   ],
   "source": [
    "list = data.select_dtypes('object').columns.tolist()\n",
    "list"
   ]
  },
  {
   "cell_type": "code",
   "execution_count": 10,
   "id": "4538bd77",
   "metadata": {
    "execution": {
     "iopub.execute_input": "2022-07-26T22:22:06.584825Z",
     "iopub.status.busy": "2022-07-26T22:22:06.584095Z",
     "iopub.status.idle": "2022-07-26T22:22:06.601932Z",
     "shell.execute_reply": "2022-07-26T22:22:06.601036Z"
    },
    "papermill": {
     "duration": 0.036335,
     "end_time": "2022-07-26T22:22:06.604363",
     "exception": false,
     "start_time": "2022-07-26T22:22:06.568028",
     "status": "completed"
    },
    "tags": []
   },
   "outputs": [],
   "source": [
    "data = data.dropna(subset = list)\n",
    "data = data.dropna(subset = ['Transported'])"
   ]
  },
  {
   "cell_type": "code",
   "execution_count": 11,
   "id": "1e1d32f9",
   "metadata": {
    "execution": {
     "iopub.execute_input": "2022-07-26T22:22:06.636316Z",
     "iopub.status.busy": "2022-07-26T22:22:06.635616Z",
     "iopub.status.idle": "2022-07-26T22:22:06.641032Z",
     "shell.execute_reply": "2022-07-26T22:22:06.640289Z"
    },
    "papermill": {
     "duration": 0.023626,
     "end_time": "2022-07-26T22:22:06.643022",
     "exception": false,
     "start_time": "2022-07-26T22:22:06.619396",
     "status": "completed"
    },
    "tags": []
   },
   "outputs": [
    {
     "data": {
      "text/plain": [
       "(7559, 16)"
      ]
     },
     "execution_count": 11,
     "metadata": {},
     "output_type": "execute_result"
    }
   ],
   "source": [
    "data.shape"
   ]
  },
  {
   "cell_type": "code",
   "execution_count": 12,
   "id": "2c60641f",
   "metadata": {
    "execution": {
     "iopub.execute_input": "2022-07-26T22:22:06.674990Z",
     "iopub.status.busy": "2022-07-26T22:22:06.674277Z",
     "iopub.status.idle": "2022-07-26T22:22:06.680778Z",
     "shell.execute_reply": "2022-07-26T22:22:06.679785Z"
    },
    "papermill": {
     "duration": 0.024626,
     "end_time": "2022-07-26T22:22:06.682800",
     "exception": false,
     "start_time": "2022-07-26T22:22:06.658174",
     "status": "completed"
    },
    "tags": []
   },
   "outputs": [
    {
     "data": {
      "text/plain": [
       "Index(['PassengerId', 'HomePlanet', 'CryoSleep', 'Cabin', 'Destination', 'Age',\n",
       "       'VIP', 'RoomService', 'FoodCourt', 'ShoppingMall', 'Spa', 'VRDeck',\n",
       "       'Name', 'Transported', 'CryoS', 'vip'],\n",
       "      dtype='object')"
      ]
     },
     "execution_count": 12,
     "metadata": {},
     "output_type": "execute_result"
    }
   ],
   "source": [
    "data.columns"
   ]
  },
  {
   "cell_type": "code",
   "execution_count": 13,
   "id": "308f68f8",
   "metadata": {
    "execution": {
     "iopub.execute_input": "2022-07-26T22:22:06.714852Z",
     "iopub.status.busy": "2022-07-26T22:22:06.714432Z",
     "iopub.status.idle": "2022-07-26T22:22:06.721497Z",
     "shell.execute_reply": "2022-07-26T22:22:06.720456Z"
    },
    "papermill": {
     "duration": 0.025971,
     "end_time": "2022-07-26T22:22:06.723763",
     "exception": false,
     "start_time": "2022-07-26T22:22:06.697792",
     "status": "completed"
    },
    "tags": []
   },
   "outputs": [],
   "source": [
    "data = data[['PassengerId', 'HomePlanet','Cabin', 'Destination', 'Age',\n",
    "      'RoomService', 'FoodCourt', 'ShoppingMall', 'Spa', 'VRDeck',\n",
    "       'Name', 'Transported', 'CryoS', 'vip']]"
   ]
  },
  {
   "cell_type": "code",
   "execution_count": 14,
   "id": "5a82fa75",
   "metadata": {
    "execution": {
     "iopub.execute_input": "2022-07-26T22:22:06.755491Z",
     "iopub.status.busy": "2022-07-26T22:22:06.754806Z",
     "iopub.status.idle": "2022-07-26T22:22:06.769965Z",
     "shell.execute_reply": "2022-07-26T22:22:06.769124Z"
    },
    "papermill": {
     "duration": 0.03347,
     "end_time": "2022-07-26T22:22:06.772150",
     "exception": false,
     "start_time": "2022-07-26T22:22:06.738680",
     "status": "completed"
    },
    "tags": []
   },
   "outputs": [
    {
     "name": "stdout",
     "output_type": "stream",
     "text": [
      "<class 'pandas.core.frame.DataFrame'>\n",
      "Int64Index: 7559 entries, 0 to 8692\n",
      "Data columns (total 14 columns):\n",
      " #   Column        Non-Null Count  Dtype  \n",
      "---  ------        --------------  -----  \n",
      " 0   PassengerId   7559 non-null   object \n",
      " 1   HomePlanet    7559 non-null   object \n",
      " 2   Cabin         7559 non-null   object \n",
      " 3   Destination   7559 non-null   object \n",
      " 4   Age           7398 non-null   float64\n",
      " 5   RoomService   7398 non-null   float64\n",
      " 6   FoodCourt     7400 non-null   float64\n",
      " 7   ShoppingMall  7378 non-null   float64\n",
      " 8   Spa           7395 non-null   float64\n",
      " 9   VRDeck        7389 non-null   float64\n",
      " 10  Name          7559 non-null   object \n",
      " 11  Transported   7559 non-null   bool   \n",
      " 12  CryoS         7559 non-null   int64  \n",
      " 13  vip           7559 non-null   int64  \n",
      "dtypes: bool(1), float64(6), int64(2), object(5)\n",
      "memory usage: 834.1+ KB\n"
     ]
    }
   ],
   "source": [
    "data.info()"
   ]
  },
  {
   "cell_type": "code",
   "execution_count": 15,
   "id": "04565cae",
   "metadata": {
    "execution": {
     "iopub.execute_input": "2022-07-26T22:22:06.804927Z",
     "iopub.status.busy": "2022-07-26T22:22:06.804219Z",
     "iopub.status.idle": "2022-07-26T22:22:06.812008Z",
     "shell.execute_reply": "2022-07-26T22:22:06.811277Z"
    },
    "papermill": {
     "duration": 0.026617,
     "end_time": "2022-07-26T22:22:06.814094",
     "exception": false,
     "start_time": "2022-07-26T22:22:06.787477",
     "status": "completed"
    },
    "tags": []
   },
   "outputs": [
    {
     "data": {
      "text/plain": [
       "['Age',\n",
       " 'RoomService',\n",
       " 'FoodCourt',\n",
       " 'ShoppingMall',\n",
       " 'Spa',\n",
       " 'VRDeck',\n",
       " 'CryoS',\n",
       " 'vip']"
      ]
     },
     "execution_count": 15,
     "metadata": {},
     "output_type": "execute_result"
    }
   ],
   "source": [
    "numerical_cols = data.select_dtypes(include = np.number).columns.tolist()\n",
    "numerical_cols"
   ]
  },
  {
   "cell_type": "code",
   "execution_count": 16,
   "id": "95dfa07d",
   "metadata": {
    "execution": {
     "iopub.execute_input": "2022-07-26T22:22:06.847236Z",
     "iopub.status.busy": "2022-07-26T22:22:06.846516Z",
     "iopub.status.idle": "2022-07-26T22:22:06.854899Z",
     "shell.execute_reply": "2022-07-26T22:22:06.853780Z"
    },
    "papermill": {
     "duration": 0.027478,
     "end_time": "2022-07-26T22:22:06.857336",
     "exception": false,
     "start_time": "2022-07-26T22:22:06.829858",
     "status": "completed"
    },
    "tags": []
   },
   "outputs": [
    {
     "data": {
      "text/plain": [
       "['PassengerId', 'HomePlanet', 'Cabin', 'Destination', 'Name']"
      ]
     },
     "execution_count": 16,
     "metadata": {},
     "output_type": "execute_result"
    }
   ],
   "source": [
    "categorical_cols = data.select_dtypes('object').columns.tolist()\n",
    "categorical_cols"
   ]
  },
  {
   "cell_type": "code",
   "execution_count": 17,
   "id": "6a4ee95a",
   "metadata": {
    "execution": {
     "iopub.execute_input": "2022-07-26T22:22:06.890102Z",
     "iopub.status.busy": "2022-07-26T22:22:06.889684Z",
     "iopub.status.idle": "2022-07-26T22:22:07.189978Z",
     "shell.execute_reply": "2022-07-26T22:22:07.188720Z"
    },
    "papermill": {
     "duration": 0.31996,
     "end_time": "2022-07-26T22:22:07.192808",
     "exception": false,
     "start_time": "2022-07-26T22:22:06.872848",
     "status": "completed"
    },
    "tags": []
   },
   "outputs": [],
   "source": [
    "from sklearn.impute import SimpleImputer"
   ]
  },
  {
   "cell_type": "code",
   "execution_count": 18,
   "id": "48d0c275",
   "metadata": {
    "execution": {
     "iopub.execute_input": "2022-07-26T22:22:07.227033Z",
     "iopub.status.busy": "2022-07-26T22:22:07.226581Z",
     "iopub.status.idle": "2022-07-26T22:22:07.231362Z",
     "shell.execute_reply": "2022-07-26T22:22:07.230463Z"
    },
    "papermill": {
     "duration": 0.023568,
     "end_time": "2022-07-26T22:22:07.233463",
     "exception": false,
     "start_time": "2022-07-26T22:22:07.209895",
     "status": "completed"
    },
    "tags": []
   },
   "outputs": [],
   "source": [
    "imputer = SimpleImputer(strategy = \"mean\")"
   ]
  },
  {
   "cell_type": "code",
   "execution_count": 19,
   "id": "2de8138a",
   "metadata": {
    "execution": {
     "iopub.execute_input": "2022-07-26T22:22:07.265687Z",
     "iopub.status.busy": "2022-07-26T22:22:07.265267Z",
     "iopub.status.idle": "2022-07-26T22:22:07.279093Z",
     "shell.execute_reply": "2022-07-26T22:22:07.278312Z"
    },
    "papermill": {
     "duration": 0.032275,
     "end_time": "2022-07-26T22:22:07.281095",
     "exception": false,
     "start_time": "2022-07-26T22:22:07.248820",
     "status": "completed"
    },
    "tags": []
   },
   "outputs": [
    {
     "data": {
      "text/plain": [
       "SimpleImputer()"
      ]
     },
     "execution_count": 19,
     "metadata": {},
     "output_type": "execute_result"
    }
   ],
   "source": [
    "imputer.fit(data[numerical_cols])"
   ]
  },
  {
   "cell_type": "code",
   "execution_count": 20,
   "id": "8cea97ab",
   "metadata": {
    "execution": {
     "iopub.execute_input": "2022-07-26T22:22:07.314027Z",
     "iopub.status.busy": "2022-07-26T22:22:07.313299Z",
     "iopub.status.idle": "2022-07-26T22:22:07.319926Z",
     "shell.execute_reply": "2022-07-26T22:22:07.318864Z"
    },
    "papermill": {
     "duration": 0.025654,
     "end_time": "2022-07-26T22:22:07.322206",
     "exception": false,
     "start_time": "2022-07-26T22:22:07.296552",
     "status": "completed"
    },
    "tags": []
   },
   "outputs": [
    {
     "data": {
      "text/plain": [
       "array([2.88461746e+01, 2.21319005e+02, 4.64970405e+02, 1.77069531e+02,\n",
       "       3.08882623e+02, 3.05237245e+02, 3.57851568e-01, 2.38126736e-02])"
      ]
     },
     "execution_count": 20,
     "metadata": {},
     "output_type": "execute_result"
    }
   ],
   "source": [
    "(imputer.statistics_)"
   ]
  },
  {
   "cell_type": "code",
   "execution_count": 21,
   "id": "af02d081",
   "metadata": {
    "execution": {
     "iopub.execute_input": "2022-07-26T22:22:07.355872Z",
     "iopub.status.busy": "2022-07-26T22:22:07.355222Z",
     "iopub.status.idle": "2022-07-26T22:22:07.364309Z",
     "shell.execute_reply": "2022-07-26T22:22:07.363200Z"
    },
    "papermill": {
     "duration": 0.028415,
     "end_time": "2022-07-26T22:22:07.366654",
     "exception": false,
     "start_time": "2022-07-26T22:22:07.338239",
     "status": "completed"
    },
    "tags": []
   },
   "outputs": [],
   "source": [
    "data[numerical_cols] = imputer.transform(data[numerical_cols])"
   ]
  },
  {
   "cell_type": "code",
   "execution_count": 22,
   "id": "93678117",
   "metadata": {
    "execution": {
     "iopub.execute_input": "2022-07-26T22:22:07.399925Z",
     "iopub.status.busy": "2022-07-26T22:22:07.398927Z",
     "iopub.status.idle": "2022-07-26T22:22:07.409548Z",
     "shell.execute_reply": "2022-07-26T22:22:07.408392Z"
    },
    "papermill": {
     "duration": 0.0296,
     "end_time": "2022-07-26T22:22:07.411773",
     "exception": false,
     "start_time": "2022-07-26T22:22:07.382173",
     "status": "completed"
    },
    "tags": []
   },
   "outputs": [
    {
     "data": {
      "text/plain": [
       "Age             0\n",
       "RoomService     0\n",
       "FoodCourt       0\n",
       "ShoppingMall    0\n",
       "Spa             0\n",
       "VRDeck          0\n",
       "CryoS           0\n",
       "vip             0\n",
       "dtype: int64"
      ]
     },
     "execution_count": 22,
     "metadata": {},
     "output_type": "execute_result"
    }
   ],
   "source": [
    "data[numerical_cols].isna().sum()"
   ]
  },
  {
   "cell_type": "code",
   "execution_count": 23,
   "id": "b9c26cd4",
   "metadata": {
    "execution": {
     "iopub.execute_input": "2022-07-26T22:22:07.444921Z",
     "iopub.status.busy": "2022-07-26T22:22:07.444229Z",
     "iopub.status.idle": "2022-07-26T22:22:07.449542Z",
     "shell.execute_reply": "2022-07-26T22:22:07.448521Z"
    },
    "papermill": {
     "duration": 0.024321,
     "end_time": "2022-07-26T22:22:07.451710",
     "exception": false,
     "start_time": "2022-07-26T22:22:07.427389",
     "status": "completed"
    },
    "tags": []
   },
   "outputs": [],
   "source": [
    "from sklearn.preprocessing import OneHotEncoder"
   ]
  },
  {
   "cell_type": "code",
   "execution_count": 24,
   "id": "d9ce5db9",
   "metadata": {
    "execution": {
     "iopub.execute_input": "2022-07-26T22:22:07.484353Z",
     "iopub.status.busy": "2022-07-26T22:22:07.483914Z",
     "iopub.status.idle": "2022-07-26T22:22:07.489187Z",
     "shell.execute_reply": "2022-07-26T22:22:07.488051Z"
    },
    "papermill": {
     "duration": 0.024142,
     "end_time": "2022-07-26T22:22:07.491388",
     "exception": false,
     "start_time": "2022-07-26T22:22:07.467246",
     "status": "completed"
    },
    "tags": []
   },
   "outputs": [],
   "source": [
    "categorical_cols = ['HomePlanet', 'Destination']"
   ]
  },
  {
   "cell_type": "code",
   "execution_count": 25,
   "id": "c22ff5f9",
   "metadata": {
    "execution": {
     "iopub.execute_input": "2022-07-26T22:22:07.524290Z",
     "iopub.status.busy": "2022-07-26T22:22:07.523856Z",
     "iopub.status.idle": "2022-07-26T22:22:07.528660Z",
     "shell.execute_reply": "2022-07-26T22:22:07.527676Z"
    },
    "papermill": {
     "duration": 0.023594,
     "end_time": "2022-07-26T22:22:07.530648",
     "exception": false,
     "start_time": "2022-07-26T22:22:07.507054",
     "status": "completed"
    },
    "tags": []
   },
   "outputs": [],
   "source": [
    "encoder = OneHotEncoder(sparse = False, handle_unknown = \"ignore\" )"
   ]
  },
  {
   "cell_type": "code",
   "execution_count": 26,
   "id": "be86317f",
   "metadata": {
    "execution": {
     "iopub.execute_input": "2022-07-26T22:22:07.563749Z",
     "iopub.status.busy": "2022-07-26T22:22:07.562955Z",
     "iopub.status.idle": "2022-07-26T22:22:07.571941Z",
     "shell.execute_reply": "2022-07-26T22:22:07.570890Z"
    },
    "papermill": {
     "duration": 0.027762,
     "end_time": "2022-07-26T22:22:07.573973",
     "exception": false,
     "start_time": "2022-07-26T22:22:07.546211",
     "status": "completed"
    },
    "tags": []
   },
   "outputs": [
    {
     "data": {
      "text/plain": [
       "OneHotEncoder(handle_unknown='ignore', sparse=False)"
      ]
     },
     "execution_count": 26,
     "metadata": {},
     "output_type": "execute_result"
    }
   ],
   "source": [
    "encoder.fit(data[categorical_cols])"
   ]
  },
  {
   "cell_type": "code",
   "execution_count": 27,
   "id": "759e5378",
   "metadata": {
    "execution": {
     "iopub.execute_input": "2022-07-26T22:22:07.607207Z",
     "iopub.status.busy": "2022-07-26T22:22:07.606775Z",
     "iopub.status.idle": "2022-07-26T22:22:07.613468Z",
     "shell.execute_reply": "2022-07-26T22:22:07.612478Z"
    },
    "papermill": {
     "duration": 0.026163,
     "end_time": "2022-07-26T22:22:07.615727",
     "exception": false,
     "start_time": "2022-07-26T22:22:07.589564",
     "status": "completed"
    },
    "tags": []
   },
   "outputs": [
    {
     "data": {
      "text/plain": [
       "[array(['Earth', 'Europa', 'Mars'], dtype=object),\n",
       " array(['55 Cancri e', 'PSO J318.5-22', 'TRAPPIST-1e'], dtype=object)]"
      ]
     },
     "execution_count": 27,
     "metadata": {},
     "output_type": "execute_result"
    }
   ],
   "source": [
    "encoder.categories_"
   ]
  },
  {
   "cell_type": "code",
   "execution_count": 28,
   "id": "36e71b82",
   "metadata": {
    "execution": {
     "iopub.execute_input": "2022-07-26T22:22:07.649495Z",
     "iopub.status.busy": "2022-07-26T22:22:07.649096Z",
     "iopub.status.idle": "2022-07-26T22:22:07.657922Z",
     "shell.execute_reply": "2022-07-26T22:22:07.656427Z"
    },
    "papermill": {
     "duration": 0.02809,
     "end_time": "2022-07-26T22:22:07.660178",
     "exception": false,
     "start_time": "2022-07-26T22:22:07.632088",
     "status": "completed"
    },
    "tags": []
   },
   "outputs": [
    {
     "name": "stderr",
     "output_type": "stream",
     "text": [
      "/opt/conda/lib/python3.7/site-packages/sklearn/utils/deprecation.py:87: FutureWarning: Function get_feature_names is deprecated; get_feature_names is deprecated in 1.0 and will be removed in 1.2. Please use get_feature_names_out instead.\n",
      "  warnings.warn(msg, category=FutureWarning)\n"
     ]
    },
    {
     "data": {
      "text/plain": [
       "['HomePlanet_Earth',\n",
       " 'HomePlanet_Europa',\n",
       " 'HomePlanet_Mars',\n",
       " 'Destination_55 Cancri e',\n",
       " 'Destination_PSO J318.5-22',\n",
       " 'Destination_TRAPPIST-1e']"
      ]
     },
     "execution_count": 28,
     "metadata": {},
     "output_type": "execute_result"
    }
   ],
   "source": [
    "encoder_cols = encoder.get_feature_names(categorical_cols).tolist()\n",
    "encoder_cols"
   ]
  },
  {
   "cell_type": "code",
   "execution_count": 29,
   "id": "ceb5b2f9",
   "metadata": {
    "execution": {
     "iopub.execute_input": "2022-07-26T22:22:07.693759Z",
     "iopub.status.busy": "2022-07-26T22:22:07.693377Z",
     "iopub.status.idle": "2022-07-26T22:22:07.706911Z",
     "shell.execute_reply": "2022-07-26T22:22:07.705974Z"
    },
    "papermill": {
     "duration": 0.033156,
     "end_time": "2022-07-26T22:22:07.709122",
     "exception": false,
     "start_time": "2022-07-26T22:22:07.675966",
     "status": "completed"
    },
    "tags": []
   },
   "outputs": [],
   "source": [
    "data[encoder_cols] = encoder.transform(data[categorical_cols])"
   ]
  },
  {
   "cell_type": "code",
   "execution_count": 30,
   "id": "14b0f30d",
   "metadata": {
    "execution": {
     "iopub.execute_input": "2022-07-26T22:22:07.743379Z",
     "iopub.status.busy": "2022-07-26T22:22:07.742959Z",
     "iopub.status.idle": "2022-07-26T22:22:07.748329Z",
     "shell.execute_reply": "2022-07-26T22:22:07.747285Z"
    },
    "papermill": {
     "duration": 0.024908,
     "end_time": "2022-07-26T22:22:07.750473",
     "exception": false,
     "start_time": "2022-07-26T22:22:07.725565",
     "status": "completed"
    },
    "tags": []
   },
   "outputs": [],
   "source": [
    "def split1(x):\n",
    "    return x.split(\"/\")[0]\n",
    "def split2(x):\n",
    "    return x.split(\"/\")[1]\n",
    "def split3(x):\n",
    "    return x.split(\"/\")[2]"
   ]
  },
  {
   "cell_type": "code",
   "execution_count": 31,
   "id": "7f383bbd",
   "metadata": {
    "execution": {
     "iopub.execute_input": "2022-07-26T22:22:07.784759Z",
     "iopub.status.busy": "2022-07-26T22:22:07.784365Z",
     "iopub.status.idle": "2022-07-26T22:22:07.802208Z",
     "shell.execute_reply": "2022-07-26T22:22:07.800912Z"
    },
    "papermill": {
     "duration": 0.037675,
     "end_time": "2022-07-26T22:22:07.804518",
     "exception": false,
     "start_time": "2022-07-26T22:22:07.766843",
     "status": "completed"
    },
    "tags": []
   },
   "outputs": [],
   "source": [
    "data['c1'] = data['Cabin'].apply(split1)\n",
    "data['c2'] = data['Cabin'].apply(split2)\n",
    "data['c3'] = data['Cabin'].apply(split3)"
   ]
  },
  {
   "cell_type": "code",
   "execution_count": 32,
   "id": "00572dc1",
   "metadata": {
    "execution": {
     "iopub.execute_input": "2022-07-26T22:22:07.839096Z",
     "iopub.status.busy": "2022-07-26T22:22:07.838712Z",
     "iopub.status.idle": "2022-07-26T22:22:07.854884Z",
     "shell.execute_reply": "2022-07-26T22:22:07.853705Z"
    },
    "papermill": {
     "duration": 0.036276,
     "end_time": "2022-07-26T22:22:07.857206",
     "exception": false,
     "start_time": "2022-07-26T22:22:07.820930",
     "status": "completed"
    },
    "tags": []
   },
   "outputs": [
    {
     "data": {
      "text/html": [
       "<div>\n",
       "<style scoped>\n",
       "    .dataframe tbody tr th:only-of-type {\n",
       "        vertical-align: middle;\n",
       "    }\n",
       "\n",
       "    .dataframe tbody tr th {\n",
       "        vertical-align: top;\n",
       "    }\n",
       "\n",
       "    .dataframe thead th {\n",
       "        text-align: right;\n",
       "    }\n",
       "</style>\n",
       "<table border=\"1\" class=\"dataframe\">\n",
       "  <thead>\n",
       "    <tr style=\"text-align: right;\">\n",
       "      <th></th>\n",
       "      <th>c1</th>\n",
       "      <th>c2</th>\n",
       "      <th>c3</th>\n",
       "    </tr>\n",
       "  </thead>\n",
       "  <tbody>\n",
       "    <tr>\n",
       "      <th>0</th>\n",
       "      <td>B</td>\n",
       "      <td>0</td>\n",
       "      <td>P</td>\n",
       "    </tr>\n",
       "    <tr>\n",
       "      <th>1</th>\n",
       "      <td>F</td>\n",
       "      <td>0</td>\n",
       "      <td>S</td>\n",
       "    </tr>\n",
       "    <tr>\n",
       "      <th>2</th>\n",
       "      <td>A</td>\n",
       "      <td>0</td>\n",
       "      <td>S</td>\n",
       "    </tr>\n",
       "    <tr>\n",
       "      <th>3</th>\n",
       "      <td>A</td>\n",
       "      <td>0</td>\n",
       "      <td>S</td>\n",
       "    </tr>\n",
       "    <tr>\n",
       "      <th>4</th>\n",
       "      <td>F</td>\n",
       "      <td>1</td>\n",
       "      <td>S</td>\n",
       "    </tr>\n",
       "    <tr>\n",
       "      <th>5</th>\n",
       "      <td>F</td>\n",
       "      <td>0</td>\n",
       "      <td>P</td>\n",
       "    </tr>\n",
       "    <tr>\n",
       "      <th>6</th>\n",
       "      <td>F</td>\n",
       "      <td>2</td>\n",
       "      <td>S</td>\n",
       "    </tr>\n",
       "    <tr>\n",
       "      <th>7</th>\n",
       "      <td>G</td>\n",
       "      <td>0</td>\n",
       "      <td>S</td>\n",
       "    </tr>\n",
       "    <tr>\n",
       "      <th>8</th>\n",
       "      <td>F</td>\n",
       "      <td>3</td>\n",
       "      <td>S</td>\n",
       "    </tr>\n",
       "    <tr>\n",
       "      <th>9</th>\n",
       "      <td>B</td>\n",
       "      <td>1</td>\n",
       "      <td>P</td>\n",
       "    </tr>\n",
       "  </tbody>\n",
       "</table>\n",
       "</div>"
      ],
      "text/plain": [
       "  c1 c2 c3\n",
       "0  B  0  P\n",
       "1  F  0  S\n",
       "2  A  0  S\n",
       "3  A  0  S\n",
       "4  F  1  S\n",
       "5  F  0  P\n",
       "6  F  2  S\n",
       "7  G  0  S\n",
       "8  F  3  S\n",
       "9  B  1  P"
      ]
     },
     "execution_count": 32,
     "metadata": {},
     "output_type": "execute_result"
    }
   ],
   "source": [
    "data[['c1','c2', 'c3']].head(10)"
   ]
  },
  {
   "cell_type": "code",
   "execution_count": 33,
   "id": "44f0f0a1",
   "metadata": {
    "execution": {
     "iopub.execute_input": "2022-07-26T22:22:07.891105Z",
     "iopub.status.busy": "2022-07-26T22:22:07.890720Z",
     "iopub.status.idle": "2022-07-26T22:22:07.905159Z",
     "shell.execute_reply": "2022-07-26T22:22:07.903642Z"
    },
    "papermill": {
     "duration": 0.033673,
     "end_time": "2022-07-26T22:22:07.907067",
     "exception": false,
     "start_time": "2022-07-26T22:22:07.873394",
     "status": "completed"
    },
    "tags": []
   },
   "outputs": [
    {
     "name": "stdout",
     "output_type": "stream",
     "text": [
      "<class 'pandas.core.frame.DataFrame'>\n",
      "Int64Index: 7559 entries, 0 to 8692\n",
      "Data columns (total 3 columns):\n",
      " #   Column  Non-Null Count  Dtype \n",
      "---  ------  --------------  ----- \n",
      " 0   c1      7559 non-null   object\n",
      " 1   c2      7559 non-null   object\n",
      " 2   c3      7559 non-null   object\n",
      "dtypes: object(3)\n",
      "memory usage: 236.2+ KB\n"
     ]
    }
   ],
   "source": [
    "data[['c1','c2', 'c3']].info()"
   ]
  },
  {
   "cell_type": "code",
   "execution_count": 34,
   "id": "da0d58d5",
   "metadata": {
    "execution": {
     "iopub.execute_input": "2022-07-26T22:22:07.941117Z",
     "iopub.status.busy": "2022-07-26T22:22:07.940724Z",
     "iopub.status.idle": "2022-07-26T22:22:07.950051Z",
     "shell.execute_reply": "2022-07-26T22:22:07.949210Z"
    },
    "papermill": {
     "duration": 0.028921,
     "end_time": "2022-07-26T22:22:07.952243",
     "exception": false,
     "start_time": "2022-07-26T22:22:07.923322",
     "status": "completed"
    },
    "tags": []
   },
   "outputs": [],
   "source": [
    "data.c1 = [ord(x) - 64 for x in data.c1]"
   ]
  },
  {
   "cell_type": "code",
   "execution_count": 35,
   "id": "de2755a0",
   "metadata": {
    "execution": {
     "iopub.execute_input": "2022-07-26T22:22:07.986683Z",
     "iopub.status.busy": "2022-07-26T22:22:07.985930Z",
     "iopub.status.idle": "2022-07-26T22:22:07.995100Z",
     "shell.execute_reply": "2022-07-26T22:22:07.994215Z"
    },
    "papermill": {
     "duration": 0.02875,
     "end_time": "2022-07-26T22:22:07.997311",
     "exception": false,
     "start_time": "2022-07-26T22:22:07.968561",
     "status": "completed"
    },
    "tags": []
   },
   "outputs": [],
   "source": [
    "data.c3 = [ord(x) - 64 for x in data.c3]"
   ]
  },
  {
   "cell_type": "code",
   "execution_count": 36,
   "id": "4f074b80",
   "metadata": {
    "execution": {
     "iopub.execute_input": "2022-07-26T22:22:08.031760Z",
     "iopub.status.busy": "2022-07-26T22:22:08.031018Z",
     "iopub.status.idle": "2022-07-26T22:22:08.037932Z",
     "shell.execute_reply": "2022-07-26T22:22:08.037122Z"
    },
    "papermill": {
     "duration": 0.026481,
     "end_time": "2022-07-26T22:22:08.040071",
     "exception": false,
     "start_time": "2022-07-26T22:22:08.013590",
     "status": "completed"
    },
    "tags": []
   },
   "outputs": [],
   "source": [
    "data['c2'] = data['c2'].astype(str).astype(int)"
   ]
  },
  {
   "cell_type": "code",
   "execution_count": 37,
   "id": "e286a48e",
   "metadata": {
    "execution": {
     "iopub.execute_input": "2022-07-26T22:22:08.074399Z",
     "iopub.status.busy": "2022-07-26T22:22:08.073730Z",
     "iopub.status.idle": "2022-07-26T22:22:08.101555Z",
     "shell.execute_reply": "2022-07-26T22:22:08.100741Z"
    },
    "papermill": {
     "duration": 0.047395,
     "end_time": "2022-07-26T22:22:08.103635",
     "exception": false,
     "start_time": "2022-07-26T22:22:08.056240",
     "status": "completed"
    },
    "tags": []
   },
   "outputs": [
    {
     "data": {
      "text/html": [
       "<div>\n",
       "<style scoped>\n",
       "    .dataframe tbody tr th:only-of-type {\n",
       "        vertical-align: middle;\n",
       "    }\n",
       "\n",
       "    .dataframe tbody tr th {\n",
       "        vertical-align: top;\n",
       "    }\n",
       "\n",
       "    .dataframe thead th {\n",
       "        text-align: right;\n",
       "    }\n",
       "</style>\n",
       "<table border=\"1\" class=\"dataframe\">\n",
       "  <thead>\n",
       "    <tr style=\"text-align: right;\">\n",
       "      <th></th>\n",
       "      <th>PassengerId</th>\n",
       "      <th>HomePlanet</th>\n",
       "      <th>Cabin</th>\n",
       "      <th>Destination</th>\n",
       "      <th>Age</th>\n",
       "      <th>RoomService</th>\n",
       "      <th>FoodCourt</th>\n",
       "      <th>ShoppingMall</th>\n",
       "      <th>Spa</th>\n",
       "      <th>VRDeck</th>\n",
       "      <th>...</th>\n",
       "      <th>vip</th>\n",
       "      <th>HomePlanet_Earth</th>\n",
       "      <th>HomePlanet_Europa</th>\n",
       "      <th>HomePlanet_Mars</th>\n",
       "      <th>Destination_55 Cancri e</th>\n",
       "      <th>Destination_PSO J318.5-22</th>\n",
       "      <th>Destination_TRAPPIST-1e</th>\n",
       "      <th>c1</th>\n",
       "      <th>c2</th>\n",
       "      <th>c3</th>\n",
       "    </tr>\n",
       "  </thead>\n",
       "  <tbody>\n",
       "    <tr>\n",
       "      <th>0</th>\n",
       "      <td>0001_01</td>\n",
       "      <td>Europa</td>\n",
       "      <td>B/0/P</td>\n",
       "      <td>TRAPPIST-1e</td>\n",
       "      <td>39.0</td>\n",
       "      <td>0.0</td>\n",
       "      <td>0.0</td>\n",
       "      <td>0.0</td>\n",
       "      <td>0.0</td>\n",
       "      <td>0.0</td>\n",
       "      <td>...</td>\n",
       "      <td>0.0</td>\n",
       "      <td>0.0</td>\n",
       "      <td>1.0</td>\n",
       "      <td>0.0</td>\n",
       "      <td>0.0</td>\n",
       "      <td>0.0</td>\n",
       "      <td>1.0</td>\n",
       "      <td>2</td>\n",
       "      <td>0</td>\n",
       "      <td>16</td>\n",
       "    </tr>\n",
       "    <tr>\n",
       "      <th>1</th>\n",
       "      <td>0002_01</td>\n",
       "      <td>Earth</td>\n",
       "      <td>F/0/S</td>\n",
       "      <td>TRAPPIST-1e</td>\n",
       "      <td>24.0</td>\n",
       "      <td>109.0</td>\n",
       "      <td>9.0</td>\n",
       "      <td>25.0</td>\n",
       "      <td>549.0</td>\n",
       "      <td>44.0</td>\n",
       "      <td>...</td>\n",
       "      <td>0.0</td>\n",
       "      <td>1.0</td>\n",
       "      <td>0.0</td>\n",
       "      <td>0.0</td>\n",
       "      <td>0.0</td>\n",
       "      <td>0.0</td>\n",
       "      <td>1.0</td>\n",
       "      <td>6</td>\n",
       "      <td>0</td>\n",
       "      <td>19</td>\n",
       "    </tr>\n",
       "    <tr>\n",
       "      <th>2</th>\n",
       "      <td>0003_01</td>\n",
       "      <td>Europa</td>\n",
       "      <td>A/0/S</td>\n",
       "      <td>TRAPPIST-1e</td>\n",
       "      <td>58.0</td>\n",
       "      <td>43.0</td>\n",
       "      <td>3576.0</td>\n",
       "      <td>0.0</td>\n",
       "      <td>6715.0</td>\n",
       "      <td>49.0</td>\n",
       "      <td>...</td>\n",
       "      <td>1.0</td>\n",
       "      <td>0.0</td>\n",
       "      <td>1.0</td>\n",
       "      <td>0.0</td>\n",
       "      <td>0.0</td>\n",
       "      <td>0.0</td>\n",
       "      <td>1.0</td>\n",
       "      <td>1</td>\n",
       "      <td>0</td>\n",
       "      <td>19</td>\n",
       "    </tr>\n",
       "    <tr>\n",
       "      <th>3</th>\n",
       "      <td>0003_02</td>\n",
       "      <td>Europa</td>\n",
       "      <td>A/0/S</td>\n",
       "      <td>TRAPPIST-1e</td>\n",
       "      <td>33.0</td>\n",
       "      <td>0.0</td>\n",
       "      <td>1283.0</td>\n",
       "      <td>371.0</td>\n",
       "      <td>3329.0</td>\n",
       "      <td>193.0</td>\n",
       "      <td>...</td>\n",
       "      <td>0.0</td>\n",
       "      <td>0.0</td>\n",
       "      <td>1.0</td>\n",
       "      <td>0.0</td>\n",
       "      <td>0.0</td>\n",
       "      <td>0.0</td>\n",
       "      <td>1.0</td>\n",
       "      <td>1</td>\n",
       "      <td>0</td>\n",
       "      <td>19</td>\n",
       "    </tr>\n",
       "    <tr>\n",
       "      <th>4</th>\n",
       "      <td>0004_01</td>\n",
       "      <td>Earth</td>\n",
       "      <td>F/1/S</td>\n",
       "      <td>TRAPPIST-1e</td>\n",
       "      <td>16.0</td>\n",
       "      <td>303.0</td>\n",
       "      <td>70.0</td>\n",
       "      <td>151.0</td>\n",
       "      <td>565.0</td>\n",
       "      <td>2.0</td>\n",
       "      <td>...</td>\n",
       "      <td>0.0</td>\n",
       "      <td>1.0</td>\n",
       "      <td>0.0</td>\n",
       "      <td>0.0</td>\n",
       "      <td>0.0</td>\n",
       "      <td>0.0</td>\n",
       "      <td>1.0</td>\n",
       "      <td>6</td>\n",
       "      <td>1</td>\n",
       "      <td>19</td>\n",
       "    </tr>\n",
       "  </tbody>\n",
       "</table>\n",
       "<p>5 rows × 23 columns</p>\n",
       "</div>"
      ],
      "text/plain": [
       "  PassengerId HomePlanet  Cabin  Destination   Age  RoomService  FoodCourt  \\\n",
       "0     0001_01     Europa  B/0/P  TRAPPIST-1e  39.0          0.0        0.0   \n",
       "1     0002_01      Earth  F/0/S  TRAPPIST-1e  24.0        109.0        9.0   \n",
       "2     0003_01     Europa  A/0/S  TRAPPIST-1e  58.0         43.0     3576.0   \n",
       "3     0003_02     Europa  A/0/S  TRAPPIST-1e  33.0          0.0     1283.0   \n",
       "4     0004_01      Earth  F/1/S  TRAPPIST-1e  16.0        303.0       70.0   \n",
       "\n",
       "   ShoppingMall     Spa  VRDeck  ...  vip  HomePlanet_Earth  \\\n",
       "0           0.0     0.0     0.0  ...  0.0               0.0   \n",
       "1          25.0   549.0    44.0  ...  0.0               1.0   \n",
       "2           0.0  6715.0    49.0  ...  1.0               0.0   \n",
       "3         371.0  3329.0   193.0  ...  0.0               0.0   \n",
       "4         151.0   565.0     2.0  ...  0.0               1.0   \n",
       "\n",
       "   HomePlanet_Europa  HomePlanet_Mars  Destination_55 Cancri e  \\\n",
       "0                1.0              0.0                      0.0   \n",
       "1                0.0              0.0                      0.0   \n",
       "2                1.0              0.0                      0.0   \n",
       "3                1.0              0.0                      0.0   \n",
       "4                0.0              0.0                      0.0   \n",
       "\n",
       "   Destination_PSO J318.5-22  Destination_TRAPPIST-1e  c1  c2  c3  \n",
       "0                        0.0                      1.0   2   0  16  \n",
       "1                        0.0                      1.0   6   0  19  \n",
       "2                        0.0                      1.0   1   0  19  \n",
       "3                        0.0                      1.0   1   0  19  \n",
       "4                        0.0                      1.0   6   1  19  \n",
       "\n",
       "[5 rows x 23 columns]"
      ]
     },
     "execution_count": 37,
     "metadata": {},
     "output_type": "execute_result"
    }
   ],
   "source": [
    "data.head(5)"
   ]
  },
  {
   "cell_type": "code",
   "execution_count": 38,
   "id": "4acd0e9f",
   "metadata": {
    "execution": {
     "iopub.execute_input": "2022-07-26T22:22:08.139760Z",
     "iopub.status.busy": "2022-07-26T22:22:08.138810Z",
     "iopub.status.idle": "2022-07-26T22:22:08.145115Z",
     "shell.execute_reply": "2022-07-26T22:22:08.144357Z"
    },
    "papermill": {
     "duration": 0.026347,
     "end_time": "2022-07-26T22:22:08.147201",
     "exception": false,
     "start_time": "2022-07-26T22:22:08.120854",
     "status": "completed"
    },
    "tags": []
   },
   "outputs": [
    {
     "data": {
      "text/plain": [
       "['PassengerId',\n",
       " 'HomePlanet',\n",
       " 'Cabin',\n",
       " 'Destination',\n",
       " 'Age',\n",
       " 'RoomService',\n",
       " 'FoodCourt',\n",
       " 'ShoppingMall',\n",
       " 'Spa',\n",
       " 'VRDeck',\n",
       " 'Name',\n",
       " 'Transported',\n",
       " 'CryoS',\n",
       " 'vip',\n",
       " 'HomePlanet_Earth',\n",
       " 'HomePlanet_Europa',\n",
       " 'HomePlanet_Mars',\n",
       " 'Destination_55 Cancri e',\n",
       " 'Destination_PSO J318.5-22',\n",
       " 'Destination_TRAPPIST-1e',\n",
       " 'c1',\n",
       " 'c2',\n",
       " 'c3']"
      ]
     },
     "execution_count": 38,
     "metadata": {},
     "output_type": "execute_result"
    }
   ],
   "source": [
    "data.columns.tolist()"
   ]
  },
  {
   "cell_type": "code",
   "execution_count": 39,
   "id": "e639d4d0",
   "metadata": {
    "execution": {
     "iopub.execute_input": "2022-07-26T22:22:08.182445Z",
     "iopub.status.busy": "2022-07-26T22:22:08.181873Z",
     "iopub.status.idle": "2022-07-26T22:22:08.186728Z",
     "shell.execute_reply": "2022-07-26T22:22:08.185664Z"
    },
    "papermill": {
     "duration": 0.025026,
     "end_time": "2022-07-26T22:22:08.188987",
     "exception": false,
     "start_time": "2022-07-26T22:22:08.163961",
     "status": "completed"
    },
    "tags": []
   },
   "outputs": [],
   "source": [
    "numerical_cols = ['Age','RoomService','FoodCourt','ShoppingMall','Spa','VRDeck','CryoS','vip','c1','c2','c3']"
   ]
  },
  {
   "cell_type": "code",
   "execution_count": 40,
   "id": "617365c8",
   "metadata": {
    "execution": {
     "iopub.execute_input": "2022-07-26T22:22:08.223979Z",
     "iopub.status.busy": "2022-07-26T22:22:08.223575Z",
     "iopub.status.idle": "2022-07-26T22:22:08.228165Z",
     "shell.execute_reply": "2022-07-26T22:22:08.227414Z"
    },
    "papermill": {
     "duration": 0.024525,
     "end_time": "2022-07-26T22:22:08.230172",
     "exception": false,
     "start_time": "2022-07-26T22:22:08.205647",
     "status": "completed"
    },
    "tags": []
   },
   "outputs": [],
   "source": [
    "from sklearn.preprocessing import MinMaxScaler"
   ]
  },
  {
   "cell_type": "code",
   "execution_count": 41,
   "id": "a0c8c7de",
   "metadata": {
    "execution": {
     "iopub.execute_input": "2022-07-26T22:22:08.266294Z",
     "iopub.status.busy": "2022-07-26T22:22:08.265558Z",
     "iopub.status.idle": "2022-07-26T22:22:08.269909Z",
     "shell.execute_reply": "2022-07-26T22:22:08.269151Z"
    },
    "papermill": {
     "duration": 0.024522,
     "end_time": "2022-07-26T22:22:08.271925",
     "exception": false,
     "start_time": "2022-07-26T22:22:08.247403",
     "status": "completed"
    },
    "tags": []
   },
   "outputs": [],
   "source": [
    "scaler = MinMaxScaler()"
   ]
  },
  {
   "cell_type": "code",
   "execution_count": 42,
   "id": "d761aaff",
   "metadata": {
    "execution": {
     "iopub.execute_input": "2022-07-26T22:22:08.307275Z",
     "iopub.status.busy": "2022-07-26T22:22:08.306560Z",
     "iopub.status.idle": "2022-07-26T22:22:08.316365Z",
     "shell.execute_reply": "2022-07-26T22:22:08.315600Z"
    },
    "papermill": {
     "duration": 0.029795,
     "end_time": "2022-07-26T22:22:08.318353",
     "exception": false,
     "start_time": "2022-07-26T22:22:08.288558",
     "status": "completed"
    },
    "tags": []
   },
   "outputs": [
    {
     "data": {
      "text/plain": [
       "MinMaxScaler()"
      ]
     },
     "execution_count": 42,
     "metadata": {},
     "output_type": "execute_result"
    }
   ],
   "source": [
    "scaler.fit(data[numerical_cols])"
   ]
  },
  {
   "cell_type": "code",
   "execution_count": 43,
   "id": "47e77dbf",
   "metadata": {
    "execution": {
     "iopub.execute_input": "2022-07-26T22:22:08.354164Z",
     "iopub.status.busy": "2022-07-26T22:22:08.353457Z",
     "iopub.status.idle": "2022-07-26T22:22:08.363637Z",
     "shell.execute_reply": "2022-07-26T22:22:08.362663Z"
    },
    "papermill": {
     "duration": 0.03053,
     "end_time": "2022-07-26T22:22:08.365886",
     "exception": false,
     "start_time": "2022-07-26T22:22:08.335356",
     "status": "completed"
    },
    "tags": []
   },
   "outputs": [],
   "source": [
    "data[numerical_cols] = scaler.transform(data[numerical_cols])"
   ]
  },
  {
   "cell_type": "code",
   "execution_count": 44,
   "id": "5c758afb",
   "metadata": {
    "execution": {
     "iopub.execute_input": "2022-07-26T22:22:08.401361Z",
     "iopub.status.busy": "2022-07-26T22:22:08.400887Z",
     "iopub.status.idle": "2022-07-26T22:22:08.405103Z",
     "shell.execute_reply": "2022-07-26T22:22:08.404226Z"
    },
    "papermill": {
     "duration": 0.024655,
     "end_time": "2022-07-26T22:22:08.407309",
     "exception": false,
     "start_time": "2022-07-26T22:22:08.382654",
     "status": "completed"
    },
    "tags": []
   },
   "outputs": [],
   "source": [
    "y_column = ['Transported']"
   ]
  },
  {
   "cell_type": "code",
   "execution_count": 45,
   "id": "2c3aa8bf",
   "metadata": {
    "execution": {
     "iopub.execute_input": "2022-07-26T22:22:08.443729Z",
     "iopub.status.busy": "2022-07-26T22:22:08.442975Z",
     "iopub.status.idle": "2022-07-26T22:22:08.450965Z",
     "shell.execute_reply": "2022-07-26T22:22:08.450062Z"
    },
    "papermill": {
     "duration": 0.028895,
     "end_time": "2022-07-26T22:22:08.453368",
     "exception": false,
     "start_time": "2022-07-26T22:22:08.424473",
     "status": "completed"
    },
    "tags": []
   },
   "outputs": [],
   "source": [
    "df = data[numerical_cols + encoder_cols + y_column]"
   ]
  },
  {
   "cell_type": "code",
   "execution_count": 46,
   "id": "0745158f",
   "metadata": {
    "execution": {
     "iopub.execute_input": "2022-07-26T22:22:08.489921Z",
     "iopub.status.busy": "2022-07-26T22:22:08.489191Z",
     "iopub.status.idle": "2022-07-26T22:22:08.520957Z",
     "shell.execute_reply": "2022-07-26T22:22:08.519953Z"
    },
    "papermill": {
     "duration": 0.052534,
     "end_time": "2022-07-26T22:22:08.523248",
     "exception": false,
     "start_time": "2022-07-26T22:22:08.470714",
     "status": "completed"
    },
    "tags": []
   },
   "outputs": [
    {
     "data": {
      "text/html": [
       "<div>\n",
       "<style scoped>\n",
       "    .dataframe tbody tr th:only-of-type {\n",
       "        vertical-align: middle;\n",
       "    }\n",
       "\n",
       "    .dataframe tbody tr th {\n",
       "        vertical-align: top;\n",
       "    }\n",
       "\n",
       "    .dataframe thead th {\n",
       "        text-align: right;\n",
       "    }\n",
       "</style>\n",
       "<table border=\"1\" class=\"dataframe\">\n",
       "  <thead>\n",
       "    <tr style=\"text-align: right;\">\n",
       "      <th></th>\n",
       "      <th>Age</th>\n",
       "      <th>RoomService</th>\n",
       "      <th>FoodCourt</th>\n",
       "      <th>ShoppingMall</th>\n",
       "      <th>Spa</th>\n",
       "      <th>VRDeck</th>\n",
       "      <th>CryoS</th>\n",
       "      <th>vip</th>\n",
       "      <th>c1</th>\n",
       "      <th>c2</th>\n",
       "      <th>c3</th>\n",
       "      <th>HomePlanet_Earth</th>\n",
       "      <th>HomePlanet_Europa</th>\n",
       "      <th>HomePlanet_Mars</th>\n",
       "      <th>Destination_55 Cancri e</th>\n",
       "      <th>Destination_PSO J318.5-22</th>\n",
       "      <th>Destination_TRAPPIST-1e</th>\n",
       "      <th>Transported</th>\n",
       "    </tr>\n",
       "  </thead>\n",
       "  <tbody>\n",
       "    <tr>\n",
       "      <th>0</th>\n",
       "      <td>0.493671</td>\n",
       "      <td>0.000000</td>\n",
       "      <td>0.000000</td>\n",
       "      <td>0.000000</td>\n",
       "      <td>0.000000</td>\n",
       "      <td>0.000000</td>\n",
       "      <td>0.0</td>\n",
       "      <td>0.0</td>\n",
       "      <td>0.052632</td>\n",
       "      <td>0.000000</td>\n",
       "      <td>0.0</td>\n",
       "      <td>0.0</td>\n",
       "      <td>1.0</td>\n",
       "      <td>0.0</td>\n",
       "      <td>0.0</td>\n",
       "      <td>0.0</td>\n",
       "      <td>1.0</td>\n",
       "      <td>False</td>\n",
       "    </tr>\n",
       "    <tr>\n",
       "      <th>1</th>\n",
       "      <td>0.303797</td>\n",
       "      <td>0.010988</td>\n",
       "      <td>0.000302</td>\n",
       "      <td>0.002040</td>\n",
       "      <td>0.024500</td>\n",
       "      <td>0.002164</td>\n",
       "      <td>0.0</td>\n",
       "      <td>0.0</td>\n",
       "      <td>0.263158</td>\n",
       "      <td>0.000000</td>\n",
       "      <td>1.0</td>\n",
       "      <td>1.0</td>\n",
       "      <td>0.0</td>\n",
       "      <td>0.0</td>\n",
       "      <td>0.0</td>\n",
       "      <td>0.0</td>\n",
       "      <td>1.0</td>\n",
       "      <td>True</td>\n",
       "    </tr>\n",
       "    <tr>\n",
       "      <th>2</th>\n",
       "      <td>0.734177</td>\n",
       "      <td>0.004335</td>\n",
       "      <td>0.119948</td>\n",
       "      <td>0.000000</td>\n",
       "      <td>0.299670</td>\n",
       "      <td>0.002410</td>\n",
       "      <td>0.0</td>\n",
       "      <td>1.0</td>\n",
       "      <td>0.000000</td>\n",
       "      <td>0.000000</td>\n",
       "      <td>1.0</td>\n",
       "      <td>0.0</td>\n",
       "      <td>1.0</td>\n",
       "      <td>0.0</td>\n",
       "      <td>0.0</td>\n",
       "      <td>0.0</td>\n",
       "      <td>1.0</td>\n",
       "      <td>False</td>\n",
       "    </tr>\n",
       "    <tr>\n",
       "      <th>3</th>\n",
       "      <td>0.417722</td>\n",
       "      <td>0.000000</td>\n",
       "      <td>0.043035</td>\n",
       "      <td>0.030278</td>\n",
       "      <td>0.148563</td>\n",
       "      <td>0.009491</td>\n",
       "      <td>0.0</td>\n",
       "      <td>0.0</td>\n",
       "      <td>0.000000</td>\n",
       "      <td>0.000000</td>\n",
       "      <td>1.0</td>\n",
       "      <td>0.0</td>\n",
       "      <td>1.0</td>\n",
       "      <td>0.0</td>\n",
       "      <td>0.0</td>\n",
       "      <td>0.0</td>\n",
       "      <td>1.0</td>\n",
       "      <td>False</td>\n",
       "    </tr>\n",
       "    <tr>\n",
       "      <th>4</th>\n",
       "      <td>0.202532</td>\n",
       "      <td>0.030544</td>\n",
       "      <td>0.002348</td>\n",
       "      <td>0.012324</td>\n",
       "      <td>0.025214</td>\n",
       "      <td>0.000098</td>\n",
       "      <td>0.0</td>\n",
       "      <td>0.0</td>\n",
       "      <td>0.263158</td>\n",
       "      <td>0.000528</td>\n",
       "      <td>1.0</td>\n",
       "      <td>1.0</td>\n",
       "      <td>0.0</td>\n",
       "      <td>0.0</td>\n",
       "      <td>0.0</td>\n",
       "      <td>0.0</td>\n",
       "      <td>1.0</td>\n",
       "      <td>True</td>\n",
       "    </tr>\n",
       "    <tr>\n",
       "      <th>5</th>\n",
       "      <td>0.556962</td>\n",
       "      <td>0.000000</td>\n",
       "      <td>0.016201</td>\n",
       "      <td>0.000000</td>\n",
       "      <td>0.012986</td>\n",
       "      <td>0.000000</td>\n",
       "      <td>0.0</td>\n",
       "      <td>0.0</td>\n",
       "      <td>0.263158</td>\n",
       "      <td>0.000000</td>\n",
       "      <td>0.0</td>\n",
       "      <td>1.0</td>\n",
       "      <td>0.0</td>\n",
       "      <td>0.0</td>\n",
       "      <td>0.0</td>\n",
       "      <td>1.0</td>\n",
       "      <td>0.0</td>\n",
       "      <td>True</td>\n",
       "    </tr>\n",
       "    <tr>\n",
       "      <th>6</th>\n",
       "      <td>0.329114</td>\n",
       "      <td>0.004234</td>\n",
       "      <td>0.051622</td>\n",
       "      <td>0.000245</td>\n",
       "      <td>0.000000</td>\n",
       "      <td>0.000000</td>\n",
       "      <td>0.0</td>\n",
       "      <td>0.0</td>\n",
       "      <td>0.263158</td>\n",
       "      <td>0.001056</td>\n",
       "      <td>1.0</td>\n",
       "      <td>1.0</td>\n",
       "      <td>0.0</td>\n",
       "      <td>0.0</td>\n",
       "      <td>0.0</td>\n",
       "      <td>0.0</td>\n",
       "      <td>1.0</td>\n",
       "      <td>True</td>\n",
       "    </tr>\n",
       "    <tr>\n",
       "      <th>7</th>\n",
       "      <td>0.354430</td>\n",
       "      <td>0.000000</td>\n",
       "      <td>0.000000</td>\n",
       "      <td>0.000000</td>\n",
       "      <td>0.000000</td>\n",
       "      <td>0.015010</td>\n",
       "      <td>1.0</td>\n",
       "      <td>0.0</td>\n",
       "      <td>0.315789</td>\n",
       "      <td>0.000000</td>\n",
       "      <td>1.0</td>\n",
       "      <td>1.0</td>\n",
       "      <td>0.0</td>\n",
       "      <td>0.0</td>\n",
       "      <td>0.0</td>\n",
       "      <td>0.0</td>\n",
       "      <td>1.0</td>\n",
       "      <td>True</td>\n",
       "    </tr>\n",
       "    <tr>\n",
       "      <th>8</th>\n",
       "      <td>0.443038</td>\n",
       "      <td>0.000000</td>\n",
       "      <td>0.026331</td>\n",
       "      <td>0.001387</td>\n",
       "      <td>0.009639</td>\n",
       "      <td>0.000000</td>\n",
       "      <td>0.0</td>\n",
       "      <td>0.0</td>\n",
       "      <td>0.263158</td>\n",
       "      <td>0.001584</td>\n",
       "      <td>1.0</td>\n",
       "      <td>1.0</td>\n",
       "      <td>0.0</td>\n",
       "      <td>0.0</td>\n",
       "      <td>0.0</td>\n",
       "      <td>0.0</td>\n",
       "      <td>1.0</td>\n",
       "      <td>True</td>\n",
       "    </tr>\n",
       "    <tr>\n",
       "      <th>9</th>\n",
       "      <td>0.177215</td>\n",
       "      <td>0.000000</td>\n",
       "      <td>0.000000</td>\n",
       "      <td>0.000000</td>\n",
       "      <td>0.000000</td>\n",
       "      <td>0.000000</td>\n",
       "      <td>1.0</td>\n",
       "      <td>0.0</td>\n",
       "      <td>0.052632</td>\n",
       "      <td>0.000528</td>\n",
       "      <td>0.0</td>\n",
       "      <td>0.0</td>\n",
       "      <td>1.0</td>\n",
       "      <td>0.0</td>\n",
       "      <td>1.0</td>\n",
       "      <td>0.0</td>\n",
       "      <td>0.0</td>\n",
       "      <td>True</td>\n",
       "    </tr>\n",
       "  </tbody>\n",
       "</table>\n",
       "</div>"
      ],
      "text/plain": [
       "        Age  RoomService  FoodCourt  ShoppingMall       Spa    VRDeck  CryoS  \\\n",
       "0  0.493671     0.000000   0.000000      0.000000  0.000000  0.000000    0.0   \n",
       "1  0.303797     0.010988   0.000302      0.002040  0.024500  0.002164    0.0   \n",
       "2  0.734177     0.004335   0.119948      0.000000  0.299670  0.002410    0.0   \n",
       "3  0.417722     0.000000   0.043035      0.030278  0.148563  0.009491    0.0   \n",
       "4  0.202532     0.030544   0.002348      0.012324  0.025214  0.000098    0.0   \n",
       "5  0.556962     0.000000   0.016201      0.000000  0.012986  0.000000    0.0   \n",
       "6  0.329114     0.004234   0.051622      0.000245  0.000000  0.000000    0.0   \n",
       "7  0.354430     0.000000   0.000000      0.000000  0.000000  0.015010    1.0   \n",
       "8  0.443038     0.000000   0.026331      0.001387  0.009639  0.000000    0.0   \n",
       "9  0.177215     0.000000   0.000000      0.000000  0.000000  0.000000    1.0   \n",
       "\n",
       "   vip        c1        c2   c3  HomePlanet_Earth  HomePlanet_Europa  \\\n",
       "0  0.0  0.052632  0.000000  0.0               0.0                1.0   \n",
       "1  0.0  0.263158  0.000000  1.0               1.0                0.0   \n",
       "2  1.0  0.000000  0.000000  1.0               0.0                1.0   \n",
       "3  0.0  0.000000  0.000000  1.0               0.0                1.0   \n",
       "4  0.0  0.263158  0.000528  1.0               1.0                0.0   \n",
       "5  0.0  0.263158  0.000000  0.0               1.0                0.0   \n",
       "6  0.0  0.263158  0.001056  1.0               1.0                0.0   \n",
       "7  0.0  0.315789  0.000000  1.0               1.0                0.0   \n",
       "8  0.0  0.263158  0.001584  1.0               1.0                0.0   \n",
       "9  0.0  0.052632  0.000528  0.0               0.0                1.0   \n",
       "\n",
       "   HomePlanet_Mars  Destination_55 Cancri e  Destination_PSO J318.5-22  \\\n",
       "0              0.0                      0.0                        0.0   \n",
       "1              0.0                      0.0                        0.0   \n",
       "2              0.0                      0.0                        0.0   \n",
       "3              0.0                      0.0                        0.0   \n",
       "4              0.0                      0.0                        0.0   \n",
       "5              0.0                      0.0                        1.0   \n",
       "6              0.0                      0.0                        0.0   \n",
       "7              0.0                      0.0                        0.0   \n",
       "8              0.0                      0.0                        0.0   \n",
       "9              0.0                      1.0                        0.0   \n",
       "\n",
       "   Destination_TRAPPIST-1e  Transported  \n",
       "0                      1.0        False  \n",
       "1                      1.0         True  \n",
       "2                      1.0        False  \n",
       "3                      1.0        False  \n",
       "4                      1.0         True  \n",
       "5                      0.0         True  \n",
       "6                      1.0         True  \n",
       "7                      1.0         True  \n",
       "8                      1.0         True  \n",
       "9                      0.0         True  "
      ]
     },
     "execution_count": 46,
     "metadata": {},
     "output_type": "execute_result"
    }
   ],
   "source": [
    "df.head(10)"
   ]
  },
  {
   "cell_type": "code",
   "execution_count": 47,
   "id": "b79e9edb",
   "metadata": {
    "execution": {
     "iopub.execute_input": "2022-07-26T22:22:08.560426Z",
     "iopub.status.busy": "2022-07-26T22:22:08.559961Z",
     "iopub.status.idle": "2022-07-26T22:22:08.564014Z",
     "shell.execute_reply": "2022-07-26T22:22:08.563212Z"
    },
    "papermill": {
     "duration": 0.024867,
     "end_time": "2022-07-26T22:22:08.565921",
     "exception": false,
     "start_time": "2022-07-26T22:22:08.541054",
     "status": "completed"
    },
    "tags": []
   },
   "outputs": [],
   "source": [
    "from sklearn.model_selection import train_test_split"
   ]
  },
  {
   "cell_type": "code",
   "execution_count": 48,
   "id": "af20a98d",
   "metadata": {
    "execution": {
     "iopub.execute_input": "2022-07-26T22:22:08.602385Z",
     "iopub.status.busy": "2022-07-26T22:22:08.601721Z",
     "iopub.status.idle": "2022-07-26T22:22:08.608269Z",
     "shell.execute_reply": "2022-07-26T22:22:08.607374Z"
    },
    "papermill": {
     "duration": 0.027286,
     "end_time": "2022-07-26T22:22:08.610447",
     "exception": false,
     "start_time": "2022-07-26T22:22:08.583161",
     "status": "completed"
    },
    "tags": []
   },
   "outputs": [],
   "source": [
    "train_df, val_df =train_test_split(df, test_size = 0.2, random_state = 42)"
   ]
  },
  {
   "cell_type": "code",
   "execution_count": 49,
   "id": "87253a00",
   "metadata": {
    "execution": {
     "iopub.execute_input": "2022-07-26T22:22:08.648360Z",
     "iopub.status.busy": "2022-07-26T22:22:08.647609Z",
     "iopub.status.idle": "2022-07-26T22:22:08.653363Z",
     "shell.execute_reply": "2022-07-26T22:22:08.652521Z"
    },
    "papermill": {
     "duration": 0.027,
     "end_time": "2022-07-26T22:22:08.655499",
     "exception": false,
     "start_time": "2022-07-26T22:22:08.628499",
     "status": "completed"
    },
    "tags": []
   },
   "outputs": [],
   "source": [
    "X_train_input = train_df[numerical_cols + encoder_cols]\n",
    "Y_train = train_df['Transported']"
   ]
  },
  {
   "cell_type": "code",
   "execution_count": 50,
   "id": "d55a04be",
   "metadata": {
    "execution": {
     "iopub.execute_input": "2022-07-26T22:22:08.692301Z",
     "iopub.status.busy": "2022-07-26T22:22:08.691843Z",
     "iopub.status.idle": "2022-07-26T22:22:08.697668Z",
     "shell.execute_reply": "2022-07-26T22:22:08.696749Z"
    },
    "papermill": {
     "duration": 0.026697,
     "end_time": "2022-07-26T22:22:08.699724",
     "exception": false,
     "start_time": "2022-07-26T22:22:08.673027",
     "status": "completed"
    },
    "tags": []
   },
   "outputs": [],
   "source": [
    "X_val_input = val_df[numerical_cols + encoder_cols]\n",
    "Y_val = val_df['Transported']"
   ]
  },
  {
   "cell_type": "code",
   "execution_count": 51,
   "id": "af7fc790",
   "metadata": {
    "execution": {
     "iopub.execute_input": "2022-07-26T22:22:08.736251Z",
     "iopub.status.busy": "2022-07-26T22:22:08.735782Z",
     "iopub.status.idle": "2022-07-26T22:22:08.740031Z",
     "shell.execute_reply": "2022-07-26T22:22:08.739202Z"
    },
    "papermill": {
     "duration": 0.025387,
     "end_time": "2022-07-26T22:22:08.742268",
     "exception": false,
     "start_time": "2022-07-26T22:22:08.716881",
     "status": "completed"
    },
    "tags": []
   },
   "outputs": [],
   "source": [
    "from sklearn.linear_model import LogisticRegression"
   ]
  },
  {
   "cell_type": "code",
   "execution_count": 52,
   "id": "11effa24",
   "metadata": {
    "execution": {
     "iopub.execute_input": "2022-07-26T22:22:08.778797Z",
     "iopub.status.busy": "2022-07-26T22:22:08.778079Z",
     "iopub.status.idle": "2022-07-26T22:22:08.782085Z",
     "shell.execute_reply": "2022-07-26T22:22:08.781346Z"
    },
    "papermill": {
     "duration": 0.024705,
     "end_time": "2022-07-26T22:22:08.784230",
     "exception": false,
     "start_time": "2022-07-26T22:22:08.759525",
     "status": "completed"
    },
    "tags": []
   },
   "outputs": [],
   "source": [
    "model1 = LogisticRegression()"
   ]
  },
  {
   "cell_type": "code",
   "execution_count": 53,
   "id": "4fd8b2d0",
   "metadata": {
    "execution": {
     "iopub.execute_input": "2022-07-26T22:22:08.822115Z",
     "iopub.status.busy": "2022-07-26T22:22:08.821390Z",
     "iopub.status.idle": "2022-07-26T22:22:08.905098Z",
     "shell.execute_reply": "2022-07-26T22:22:08.903877Z"
    },
    "papermill": {
     "duration": 0.106499,
     "end_time": "2022-07-26T22:22:08.908390",
     "exception": false,
     "start_time": "2022-07-26T22:22:08.801891",
     "status": "completed"
    },
    "tags": []
   },
   "outputs": [
    {
     "data": {
      "text/plain": [
       "LogisticRegression()"
      ]
     },
     "execution_count": 53,
     "metadata": {},
     "output_type": "execute_result"
    }
   ],
   "source": [
    "model1.fit(X_train_input, Y_train)"
   ]
  },
  {
   "cell_type": "code",
   "execution_count": 54,
   "id": "da93126e",
   "metadata": {
    "execution": {
     "iopub.execute_input": "2022-07-26T22:22:08.971164Z",
     "iopub.status.busy": "2022-07-26T22:22:08.970555Z",
     "iopub.status.idle": "2022-07-26T22:22:08.983193Z",
     "shell.execute_reply": "2022-07-26T22:22:08.981935Z"
    },
    "papermill": {
     "duration": 0.048458,
     "end_time": "2022-07-26T22:22:08.986976",
     "exception": false,
     "start_time": "2022-07-26T22:22:08.938518",
     "status": "completed"
    },
    "tags": []
   },
   "outputs": [],
   "source": [
    "pred_train = model1.predict(X_train_input)"
   ]
  },
  {
   "cell_type": "code",
   "execution_count": 55,
   "id": "92db84c0",
   "metadata": {
    "execution": {
     "iopub.execute_input": "2022-07-26T22:22:09.050109Z",
     "iopub.status.busy": "2022-07-26T22:22:09.049501Z",
     "iopub.status.idle": "2022-07-26T22:22:09.055762Z",
     "shell.execute_reply": "2022-07-26T22:22:09.054499Z"
    },
    "papermill": {
     "duration": 0.044198,
     "end_time": "2022-07-26T22:22:09.061921",
     "exception": false,
     "start_time": "2022-07-26T22:22:09.017723",
     "status": "completed"
    },
    "tags": []
   },
   "outputs": [],
   "source": [
    "from sklearn.metrics import accuracy_score"
   ]
  },
  {
   "cell_type": "code",
   "execution_count": 56,
   "id": "fd8599de",
   "metadata": {
    "execution": {
     "iopub.execute_input": "2022-07-26T22:22:09.115966Z",
     "iopub.status.busy": "2022-07-26T22:22:09.115551Z",
     "iopub.status.idle": "2022-07-26T22:22:09.124657Z",
     "shell.execute_reply": "2022-07-26T22:22:09.123468Z"
    },
    "papermill": {
     "duration": 0.034938,
     "end_time": "2022-07-26T22:22:09.126900",
     "exception": false,
     "start_time": "2022-07-26T22:22:09.091962",
     "status": "completed"
    },
    "tags": []
   },
   "outputs": [
    {
     "data": {
      "text/plain": [
       "0.7727798908549695"
      ]
     },
     "execution_count": 56,
     "metadata": {},
     "output_type": "execute_result"
    }
   ],
   "source": [
    "accuracy_score(Y_train, pred_train)"
   ]
  },
  {
   "cell_type": "code",
   "execution_count": 57,
   "id": "35933583",
   "metadata": {
    "execution": {
     "iopub.execute_input": "2022-07-26T22:22:09.164862Z",
     "iopub.status.busy": "2022-07-26T22:22:09.163485Z",
     "iopub.status.idle": "2022-07-26T22:22:09.169232Z",
     "shell.execute_reply": "2022-07-26T22:22:09.168380Z"
    },
    "papermill": {
     "duration": 0.027098,
     "end_time": "2022-07-26T22:22:09.171622",
     "exception": false,
     "start_time": "2022-07-26T22:22:09.144524",
     "status": "completed"
    },
    "tags": []
   },
   "outputs": [],
   "source": [
    "from sklearn.metrics import confusion_matrix\n",
    "from sklearn.metrics import plot_confusion_matrix"
   ]
  },
  {
   "cell_type": "code",
   "execution_count": 58,
   "id": "879c523e",
   "metadata": {
    "execution": {
     "iopub.execute_input": "2022-07-26T22:22:09.209430Z",
     "iopub.status.busy": "2022-07-26T22:22:09.208035Z",
     "iopub.status.idle": "2022-07-26T22:22:09.220681Z",
     "shell.execute_reply": "2022-07-26T22:22:09.219668Z"
    },
    "papermill": {
     "duration": 0.033599,
     "end_time": "2022-07-26T22:22:09.222918",
     "exception": false,
     "start_time": "2022-07-26T22:22:09.189319",
     "status": "completed"
    },
    "tags": []
   },
   "outputs": [
    {
     "data": {
      "text/plain": [
       "array([[0.82058136, 0.17941864],\n",
       "       [0.2740668 , 0.7259332 ]])"
      ]
     },
     "execution_count": 58,
     "metadata": {},
     "output_type": "execute_result"
    }
   ],
   "source": [
    "confusion_matrix(Y_train, pred_train, normalize = 'true')"
   ]
  },
  {
   "cell_type": "code",
   "execution_count": 59,
   "id": "5a83fd3b",
   "metadata": {
    "execution": {
     "iopub.execute_input": "2022-07-26T22:22:09.260624Z",
     "iopub.status.busy": "2022-07-26T22:22:09.259820Z",
     "iopub.status.idle": "2022-07-26T22:22:09.538031Z",
     "shell.execute_reply": "2022-07-26T22:22:09.536873Z"
    },
    "papermill": {
     "duration": 0.299688,
     "end_time": "2022-07-26T22:22:09.540391",
     "exception": false,
     "start_time": "2022-07-26T22:22:09.240703",
     "status": "completed"
    },
    "tags": []
   },
   "outputs": [
    {
     "name": "stderr",
     "output_type": "stream",
     "text": [
      "/opt/conda/lib/python3.7/site-packages/sklearn/utils/deprecation.py:87: FutureWarning: Function plot_confusion_matrix is deprecated; Function `plot_confusion_matrix` is deprecated in 1.0 and will be removed in 1.2. Use one of the class methods: ConfusionMatrixDisplay.from_predictions or ConfusionMatrixDisplay.from_estimator.\n",
      "  warnings.warn(msg, category=FutureWarning)\n"
     ]
    },
    {
     "data": {
      "text/plain": [
       "<sklearn.metrics._plot.confusion_matrix.ConfusionMatrixDisplay at 0x7fdad45a9a10>"
      ]
     },
     "execution_count": 59,
     "metadata": {},
     "output_type": "execute_result"
    },
    {
     "data": {
      "image/png": "[encoded data removed]",
      "text/plain": [
       "<Figure size 432x288 with 2 Axes>"
      ]
     },
     "metadata": {
      "needs_background": "light"
     },
     "output_type": "display_data"
    }
   ],
   "source": [
    "plot_confusion_matrix(model1, X_train_input, Y_train)"
   ]
  },
  {
   "cell_type": "code",
   "execution_count": 60,
   "id": "e03752ce",
   "metadata": {
    "execution": {
     "iopub.execute_input": "2022-07-26T22:22:09.578861Z",
     "iopub.status.busy": "2022-07-26T22:22:09.577778Z",
     "iopub.status.idle": "2022-07-26T22:22:09.584924Z",
     "shell.execute_reply": "2022-07-26T22:22:09.584191Z"
    },
    "papermill": {
     "duration": 0.028802,
     "end_time": "2022-07-26T22:22:09.587458",
     "exception": false,
     "start_time": "2022-07-26T22:22:09.558656",
     "status": "completed"
    },
    "tags": []
   },
   "outputs": [],
   "source": [
    "def predict_and_plot(inputs, targets, name=''):\n",
    "    preds = model1.predict(inputs)\n",
    "    \n",
    "    accuracy = accuracy_score(targets, preds)\n",
    "    print(\"Accuracy: {:.2f}%\".format(accuracy * 100))\n",
    "    \n",
    "    cf = confusion_matrix(targets, preds, normalize='true')\n",
    "    plt.figure()\n",
    "    sns.heatmap(cf, annot=True)\n",
    "    plt.xlabel('Prediction')\n",
    "    plt.ylabel('Target')\n",
    "    plt.title('{} Confusion Matrix'.format(name));\n",
    "    \n",
    "    return preds"
   ]
  },
  {
   "cell_type": "code",
   "execution_count": 61,
   "id": "6c5ddf05",
   "metadata": {
    "execution": {
     "iopub.execute_input": "2022-07-26T22:22:09.625543Z",
     "iopub.status.busy": "2022-07-26T22:22:09.624361Z",
     "iopub.status.idle": "2022-07-26T22:22:09.882029Z",
     "shell.execute_reply": "2022-07-26T22:22:09.881196Z"
    },
    "papermill": {
     "duration": 0.278948,
     "end_time": "2022-07-26T22:22:09.884274",
     "exception": false,
     "start_time": "2022-07-26T22:22:09.605326",
     "status": "completed"
    },
    "tags": []
   },
   "outputs": [
    {
     "name": "stdout",
     "output_type": "stream",
     "text": [
      "Accuracy: 77.28%\n"
     ]
    },
    {
     "data": {
      "image/png": "[encoded data removed]",
      "text/plain": [
       "<Figure size 432x288 with 2 Axes>"
      ]
     },
     "metadata": {
      "needs_background": "light"
     },
     "output_type": "display_data"
    }
   ],
   "source": [
    "train_preds = predict_and_plot(X_train_input, Y_train, 'Training')"
   ]
  },
  {
   "cell_type": "code",
   "execution_count": null,
   "id": "aa8d9447",
   "metadata": {
    "papermill": {
     "duration": 0.018386,
     "end_time": "2022-07-26T22:22:09.921723",
     "exception": false,
     "start_time": "2022-07-26T22:22:09.903337",
     "status": "completed"
    },
    "tags": []
   },
   "outputs": [],
   "source": []
  }
 ],
 "metadata": {
  "kernelspec": {
   "display_name": "Python 3",
   "language": "python",
   "name": "python3"
  },
  "language_info": {
   "codemirror_mode": {
    "name": "ipython",
    "version": 3
   },
   "file_extension": ".py",
   "mimetype": "text/x-python",
   "name": "python",
   "nbconvert_exporter": "python",
   "pygments_lexer": "ipython3",
   "version": "3.7.12"
  },
  "papermill": {
   "default_parameters": {},
   "duration": 15.175274,
   "end_time": "2022-07-26T22:22:10.661337",
   "environment_variables": {},
   "exception": null,
   "input_path": "__notebook__.ipynb",
   "output_path": "__notebook__.ipynb",
   "parameters": {},
   "start_time": "2022-07-26T22:21:55.486063",
   "version": "2.3.4"
  }
 },
 "nbformat": 4,
 "nbformat_minor": 5
}
